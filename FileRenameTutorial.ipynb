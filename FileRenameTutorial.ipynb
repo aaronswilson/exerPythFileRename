{
 "cells": [
  {
   "cell_type": "code",
   "execution_count": 6,
   "source": [
    "import os\r\n",
    "\r\n",
    "os.chdir(r\"c:\\Users\\Aaron Wilson\\Desktop\\BMI_6017\\Week 4\\exerPythFileRename\\dummy_files\")\r\n",
    "\r\n",
    "print(os.getcwd())"
   ],
   "outputs": [
    {
     "output_type": "stream",
     "name": "stdout",
     "text": [
      "c:\\Users\\Aaron Wilson\\Desktop\\BMI_6017\\Week 4\\exerPythFileRename\\dummy_files\n"
     ]
    }
   ],
   "metadata": {}
  },
  {
   "cell_type": "code",
   "execution_count": 7,
   "source": [
    "import os\r\n",
    "\r\n",
    "os.chdir(r\"c:\\Users\\Aaron Wilson\\Desktop\\BMI_6017\\Week 4\\exerPythFileRename\\dummy_files\")\r\n",
    "\r\n",
    "for f in os.listdir():\r\n",
    "    print(f)"
   ],
   "outputs": [
    {
     "output_type": "stream",
     "name": "stdout",
     "text": [
      "Earth - Our solar system - #4.txt\n",
      "Jupiter - Our solar system - #6.txt\n",
      "Mars - Our solar system - #5.txt\n",
      "Mercury - Our solar system - #2.txt\n",
      "Neptune - Our solar system - #8.txt\n",
      "Pluto - Our solar system - #10.txt\n",
      "Saturn - Our solar system - #7.txt\n",
      "The Sun - Our solar system - #1.txt\n",
      "Uranus - Our solar system - #9.txt\n",
      "Venus - Our solar system - #3.txt\n"
     ]
    }
   ],
   "metadata": {}
  },
  {
   "cell_type": "code",
   "execution_count": 8,
   "source": [
    "import os\r\n",
    "\r\n",
    "os.chdir(r\"c:\\Users\\Aaron Wilson\\Desktop\\BMI_6017\\Week 4\\exerPythFileRename\\dummy_files\")\r\n",
    "\r\n",
    "for f in os.listdir():\r\n",
    "    print(os.path.splitext(f))"
   ],
   "outputs": [
    {
     "output_type": "stream",
     "name": "stdout",
     "text": [
      "('Earth - Our solar system - #4', '.txt')\n",
      "('Jupiter - Our solar system - #6', '.txt')\n",
      "('Mars - Our solar system - #5', '.txt')\n",
      "('Mercury - Our solar system - #2', '.txt')\n",
      "('Neptune - Our solar system - #8', '.txt')\n",
      "('Pluto - Our solar system - #10', '.txt')\n",
      "('Saturn - Our solar system - #7', '.txt')\n",
      "('The Sun - Our solar system - #1', '.txt')\n",
      "('Uranus - Our solar system - #9', '.txt')\n",
      "('Venus - Our solar system - #3', '.txt')\n"
     ]
    }
   ],
   "metadata": {}
  },
  {
   "cell_type": "code",
   "execution_count": 9,
   "source": [
    "import os\r\n",
    "\r\n",
    "os.chdir(r\"c:\\Users\\Aaron Wilson\\Desktop\\BMI_6017\\Week 4\\exerPythFileRename\\dummy_files\")\r\n",
    "\r\n",
    "for f in os.listdir():\r\n",
    "    file_name, file_ext = os.path.splitext(f)\r\n",
    "    print(file_name)"
   ],
   "outputs": [
    {
     "output_type": "stream",
     "name": "stdout",
     "text": [
      "Earth - Our solar system - #4\n",
      "Jupiter - Our solar system - #6\n",
      "Mars - Our solar system - #5\n",
      "Mercury - Our solar system - #2\n",
      "Neptune - Our solar system - #8\n",
      "Pluto - Our solar system - #10\n",
      "Saturn - Our solar system - #7\n",
      "The Sun - Our solar system - #1\n",
      "Uranus - Our solar system - #9\n",
      "Venus - Our solar system - #3\n"
     ]
    }
   ],
   "metadata": {}
  },
  {
   "cell_type": "code",
   "execution_count": 10,
   "source": [
    "import os\r\n",
    "\r\n",
    "os.chdir(r\"c:\\Users\\Aaron Wilson\\Desktop\\BMI_6017\\Week 4\\exerPythFileRename\\dummy_files\")\r\n",
    "\r\n",
    "for f in os.listdir():\r\n",
    "    file_name, file_ext = os.path.splitext(f)\r\n",
    "    print(file_name.split('-'))"
   ],
   "outputs": [
    {
     "output_type": "stream",
     "name": "stdout",
     "text": [
      "['Earth ', ' Our solar system ', ' #4']\n",
      "['Jupiter ', ' Our solar system ', ' #6']\n",
      "['Mars ', ' Our solar system ', ' #5']\n",
      "['Mercury ', ' Our solar system ', ' #2']\n",
      "['Neptune ', ' Our solar system ', ' #8']\n",
      "['Pluto ', ' Our solar system ', ' #10']\n",
      "['Saturn ', ' Our solar system ', ' #7']\n",
      "['The Sun ', ' Our solar system ', ' #1']\n",
      "['Uranus ', ' Our solar system ', ' #9']\n",
      "['Venus ', ' Our solar system ', ' #3']\n"
     ]
    }
   ],
   "metadata": {}
  },
  {
   "cell_type": "code",
   "execution_count": 11,
   "source": [
    "import os\r\n",
    "\r\n",
    "os.chdir(r\"c:\\Users\\Aaron Wilson\\Desktop\\BMI_6017\\Week 4\\exerPythFileRename\\dummy_files\")\r\n",
    "\r\n",
    "for f in os.listdir():\r\n",
    "    file_name, file_ext = os.path.splitext(f)\r\n",
    "\r\n",
    "    f_title, f_course, f_num = file_name.split('-')\r\n",
    "\r\n",
    "    print(f_num)"
   ],
   "outputs": [
    {
     "output_type": "stream",
     "name": "stdout",
     "text": [
      " #4\n",
      " #6\n",
      " #5\n",
      " #2\n",
      " #8\n",
      " #10\n",
      " #7\n",
      " #1\n",
      " #9\n",
      " #3\n"
     ]
    }
   ],
   "metadata": {}
  },
  {
   "cell_type": "code",
   "execution_count": 16,
   "source": [
    "import os\r\n",
    "\r\n",
    "os.chdir(r\"c:\\Users\\Aaron Wilson\\Desktop\\BMI_6017\\Week 4\\exerPythFileRename\\dummy_files\")\r\n",
    "\r\n",
    "for f in os.listdir():\r\n",
    "    f_name, f_ext = os.path.splitext(f)\r\n",
    "\r\n",
    "    f_title, f_course, f_num = f_name.split('-')\r\n",
    "\r\n",
    "    print('{}-{}-{}{}'.format(f_num, f_course, f_title, f_ext))"
   ],
   "outputs": [
    {
     "output_type": "stream",
     "name": "stdout",
     "text": [
      " #4- Our solar system -Earth .txt\n",
      " #6- Our solar system -Jupiter .txt\n",
      " #5- Our solar system -Mars .txt\n",
      " #2- Our solar system -Mercury .txt\n",
      " #8- Our solar system -Neptune .txt\n",
      " #10- Our solar system -Pluto .txt\n",
      " #7- Our solar system -Saturn .txt\n",
      " #1- Our solar system -The Sun .txt\n",
      " #9- Our solar system -Uranus .txt\n",
      " #3- Our solar system -Venus .txt\n"
     ]
    }
   ],
   "metadata": {}
  },
  {
   "cell_type": "code",
   "execution_count": 17,
   "source": [
    "import os\r\n",
    "\r\n",
    "os.chdir(r\"c:\\Users\\Aaron Wilson\\Desktop\\BMI_6017\\Week 4\\exerPythFileRename\\dummy_files\")\r\n",
    "\r\n",
    "for f in os.listdir():\r\n",
    "    f_name, f_ext = os.path.splitext(f)\r\n",
    "\r\n",
    "    f_title, f_course, f_num = f_name.split('-')\r\n",
    "\r\n",
    "    f_title = f_title.strip()\r\n",
    "    f_course = f_course.strip()\r\n",
    "    f_num = f_num.strip()\r\n",
    "    \r\n",
    "    print('{}-{}-{}{}'.format(f_num, f_course, f_title, f_ext))"
   ],
   "outputs": [
    {
     "output_type": "stream",
     "name": "stdout",
     "text": [
      "#4-Our solar system-Earth.txt\n",
      "#6-Our solar system-Jupiter.txt\n",
      "#5-Our solar system-Mars.txt\n",
      "#2-Our solar system-Mercury.txt\n",
      "#8-Our solar system-Neptune.txt\n",
      "#10-Our solar system-Pluto.txt\n",
      "#7-Our solar system-Saturn.txt\n",
      "#1-Our solar system-The Sun.txt\n",
      "#9-Our solar system-Uranus.txt\n",
      "#3-Our solar system-Venus.txt\n"
     ]
    }
   ],
   "metadata": {}
  },
  {
   "cell_type": "code",
   "execution_count": 18,
   "source": [
    "import os\r\n",
    "\r\n",
    "os.chdir(r\"c:\\Users\\Aaron Wilson\\Desktop\\BMI_6017\\Week 4\\exerPythFileRename\\dummy_files\")\r\n",
    "\r\n",
    "for f in os.listdir():\r\n",
    "    f_name, f_ext = os.path.splitext(f)\r\n",
    "\r\n",
    "    f_title, f_course, f_num = f_name.split('-')\r\n",
    "\r\n",
    "    f_title = f_title.strip()\r\n",
    "    f_course = f_course.strip()\r\n",
    "    f_num = f_num.strip()[1:]\r\n",
    "    \r\n",
    "    print('{}-{}-{}{}'.format(f_num, f_course, f_title, f_ext))"
   ],
   "outputs": [
    {
     "output_type": "stream",
     "name": "stdout",
     "text": [
      "4-Our solar system-Earth.txt\n",
      "6-Our solar system-Jupiter.txt\n",
      "5-Our solar system-Mars.txt\n",
      "2-Our solar system-Mercury.txt\n",
      "8-Our solar system-Neptune.txt\n",
      "10-Our solar system-Pluto.txt\n",
      "7-Our solar system-Saturn.txt\n",
      "1-Our solar system-The Sun.txt\n",
      "9-Our solar system-Uranus.txt\n",
      "3-Our solar system-Venus.txt\n"
     ]
    }
   ],
   "metadata": {}
  },
  {
   "cell_type": "code",
   "execution_count": 19,
   "source": [
    "import os\r\n",
    "\r\n",
    "os.chdir(r\"c:\\Users\\Aaron Wilson\\Desktop\\BMI_6017\\Week 4\\exerPythFileRename\\dummy_files\")\r\n",
    "\r\n",
    "for f in os.listdir():\r\n",
    "    f_name, f_ext = os.path.splitext(f)\r\n",
    "\r\n",
    "    f_title, f_course, f_num = f_name.split('-')\r\n",
    "\r\n",
    "    f_title = f_title.strip()\r\n",
    "    f_course = f_course.strip()\r\n",
    "    f_num = f_num.strip()[1:].zfill(2)\r\n",
    "    \r\n",
    "    print('{}-{}-{}{}'.format(f_num, f_course, f_title, f_ext))"
   ],
   "outputs": [
    {
     "output_type": "stream",
     "name": "stdout",
     "text": [
      "04-Our solar system-Earth.txt\n",
      "06-Our solar system-Jupiter.txt\n",
      "05-Our solar system-Mars.txt\n",
      "02-Our solar system-Mercury.txt\n",
      "08-Our solar system-Neptune.txt\n",
      "10-Our solar system-Pluto.txt\n",
      "07-Our solar system-Saturn.txt\n",
      "01-Our solar system-The Sun.txt\n",
      "09-Our solar system-Uranus.txt\n",
      "03-Our solar system-Venus.txt\n"
     ]
    }
   ],
   "metadata": {}
  },
  {
   "cell_type": "code",
   "execution_count": 20,
   "source": [
    "import os\r\n",
    "\r\n",
    "os.chdir(r\"c:\\Users\\Aaron Wilson\\Desktop\\BMI_6017\\Week 4\\exerPythFileRename\\dummy_files\")\r\n",
    "\r\n",
    "for f in os.listdir():\r\n",
    "    f_name, f_ext = os.path.splitext(f)\r\n",
    "\r\n",
    "    f_title, f_course, f_num = f_name.split('-')\r\n",
    "\r\n",
    "    f_title = f_title.strip()\r\n",
    "    f_course = f_course.strip()\r\n",
    "    f_num = f_num.strip()[1:].zfill(2)\r\n",
    "    \r\n",
    "    print('{}-{}{}'.format(f_num, f_title, f_ext))"
   ],
   "outputs": [
    {
     "output_type": "stream",
     "name": "stdout",
     "text": [
      "04-Earth.txt\n",
      "06-Jupiter.txt\n",
      "05-Mars.txt\n",
      "02-Mercury.txt\n",
      "08-Neptune.txt\n",
      "10-Pluto.txt\n",
      "07-Saturn.txt\n",
      "01-The Sun.txt\n",
      "09-Uranus.txt\n",
      "03-Venus.txt\n"
     ]
    }
   ],
   "metadata": {}
  },
  {
   "cell_type": "code",
   "execution_count": 22,
   "source": [
    "import os\r\n",
    "\r\n",
    "os.chdir(r\"c:\\Users\\Aaron Wilson\\Desktop\\BMI_6017\\Week 4\\exerPythFileRename\\dummy_files\")\r\n",
    "\r\n",
    "for f in os.listdir():\r\n",
    "    f_name, f_ext = os.path.splitext(f)\r\n",
    "\r\n",
    "    f_title, f_course, f_num = f_name.split('-')\r\n",
    "\r\n",
    "    f_title = f_title.strip()\r\n",
    "    f_course = f_course.strip()\r\n",
    "    f_num = f_num.strip()[1:].zfill(2)\r\n",
    "    \r\n",
    "    new_name = '{}-{}{}'.format(f_num, f_title, f_ext)\r\n",
    "\r\n",
    "    os.rename(f, new_name)\r\n"
   ],
   "outputs": [],
   "metadata": {}
  }
 ],
 "metadata": {
  "orig_nbformat": 4,
  "language_info": {
   "name": "python",
   "version": "3.8.8",
   "mimetype": "text/x-python",
   "codemirror_mode": {
    "name": "ipython",
    "version": 3
   },
   "pygments_lexer": "ipython3",
   "nbconvert_exporter": "python",
   "file_extension": ".py"
  },
  "kernelspec": {
   "name": "python3",
   "display_name": "Python 3.8.8 64-bit ('base': conda)"
  },
  "interpreter": {
   "hash": "2a11790902704dc6bb7eb9b0cc36ba8d9bfcef8051a10a2cc2f6462a1c7ebcad"
  }
 },
 "nbformat": 4,
 "nbformat_minor": 2
}